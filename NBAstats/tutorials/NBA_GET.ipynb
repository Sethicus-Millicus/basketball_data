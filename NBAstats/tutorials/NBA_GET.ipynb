{
 "cells": [
  {
   "cell_type": "code",
   "execution_count": 30,
   "id": "published-revelation",
   "metadata": {},
   "outputs": [],
   "source": [
    "import pandas as pd\n",
    "import time\n",
    "from nba_api.stats.static import players, teams\n",
    "from nba_api.stats.endpoints import playergamelog, fantasywidget, boxscoreusagev2, boxscoretraditionalv2, scoreboardv2\n"
   ]
  },
  {
   "cell_type": "code",
   "execution_count": 10,
   "id": "mental-newspaper",
   "metadata": {},
   "outputs": [
    {
     "data": {
      "text/html": [
       "<div>\n",
       "<style scoped>\n",
       "    .dataframe tbody tr th:only-of-type {\n",
       "        vertical-align: middle;\n",
       "    }\n",
       "\n",
       "    .dataframe tbody tr th {\n",
       "        vertical-align: top;\n",
       "    }\n",
       "\n",
       "    .dataframe thead th {\n",
       "        text-align: right;\n",
       "    }\n",
       "</style>\n",
       "<table border=\"1\" class=\"dataframe\">\n",
       "  <thead>\n",
       "    <tr style=\"text-align: right;\">\n",
       "      <th></th>\n",
       "      <th>GAME_ID</th>\n",
       "      <th>PT_AVAILABLE</th>\n",
       "    </tr>\n",
       "  </thead>\n",
       "  <tbody>\n",
       "    <tr>\n",
       "      <th>0</th>\n",
       "      <td>0022000495</td>\n",
       "      <td>1</td>\n",
       "    </tr>\n",
       "    <tr>\n",
       "      <th>1</th>\n",
       "      <td>0022000493</td>\n",
       "      <td>0</td>\n",
       "    </tr>\n",
       "    <tr>\n",
       "      <th>2</th>\n",
       "      <td>0022000489</td>\n",
       "      <td>1</td>\n",
       "    </tr>\n",
       "    <tr>\n",
       "      <th>3</th>\n",
       "      <td>0022000492</td>\n",
       "      <td>1</td>\n",
       "    </tr>\n",
       "    <tr>\n",
       "      <th>4</th>\n",
       "      <td>0022000494</td>\n",
       "      <td>0</td>\n",
       "    </tr>\n",
       "    <tr>\n",
       "      <th>5</th>\n",
       "      <td>0022000491</td>\n",
       "      <td>1</td>\n",
       "    </tr>\n",
       "    <tr>\n",
       "      <th>6</th>\n",
       "      <td>0022000490</td>\n",
       "      <td>1</td>\n",
       "    </tr>\n",
       "    <tr>\n",
       "      <th>7</th>\n",
       "      <td>0022000496</td>\n",
       "      <td>0</td>\n",
       "    </tr>\n",
       "    <tr>\n",
       "      <th>8</th>\n",
       "      <td>0022000497</td>\n",
       "      <td>1</td>\n",
       "    </tr>\n",
       "  </tbody>\n",
       "</table>\n",
       "</div>"
      ],
      "text/plain": [
       "      GAME_ID  PT_AVAILABLE\n",
       "0  0022000495             1\n",
       "1  0022000493             0\n",
       "2  0022000489             1\n",
       "3  0022000492             1\n",
       "4  0022000494             0\n",
       "5  0022000491             1\n",
       "6  0022000490             1\n",
       "7  0022000496             0\n",
       "8  0022000497             1"
      ]
     },
     "execution_count": 10,
     "metadata": {},
     "output_type": "execute_result"
    }
   ],
   "source": [
    "#sb = scoreboardv2.ScoreboardV2(game_date = '02/24/2021')\n",
    "\n",
    "#sb.available.get_data_frame()"
   ]
  },
  {
   "cell_type": "code",
   "execution_count": 31,
   "id": "frequent-throat",
   "metadata": {},
   "outputs": [],
   "source": [
    "games = pd.read_csv('game_dates_pulled.csv')\n",
    "games = games[games['pulled']!= 'done']"
   ]
  },
  {
   "cell_type": "code",
   "execution_count": 32,
   "id": "second-martin",
   "metadata": {},
   "outputs": [],
   "source": [
    "teams = pd.DataFrame(teams.get_teams())"
   ]
  },
  {
   "cell_type": "code",
   "execution_count": 33,
   "id": "external-bridges",
   "metadata": {},
   "outputs": [],
   "source": [
    "for i, row in games.iterrows():\n",
    "    time.sleep(5)\n",
    "    if row['pulled']  == 'done':\n",
    "        pass\n",
    "    else:\n",
    "        gd = row['dates']\n",
    "        sb = scoreboardv2.ScoreboardV2(game_date = gd)\n",
    "        sb = sb.game_header.get_data_frame()\n",
    "        sb = sb[(sb['HOME_TEAM_ID'].isin(teams.id)) & (sb['GAME_STATUS_TEXT'] != \"PPD\") & (sb['GAME_SEQUENCE']!= 0)]\n",
    "        \n",
    "        if len(sb) == 0:\n",
    "            games.loc[i, 'pulled']='done'\n",
    "            games.to_csv('games_dates_pulled.csv', index=False)\n",
    "            pass\n",
    "        gids = sb['GAME_ID']\n",
    "        gids = gids.append(gids)\n",
    "        gids.reset_index(inplace=True, drop=True)\n",
    "        \n",
    "\n",
    "    "
   ]
  },
  {
   "cell_type": "code",
   "execution_count": 34,
   "id": "protective-therapy",
   "metadata": {},
   "outputs": [
    {
     "data": {
      "text/plain": [
       "0     0022001066\n",
       "1     0022001067\n",
       "2     0022001068\n",
       "3     0022001069\n",
       "4     0022001070\n",
       "5     0022001071\n",
       "6     0022001072\n",
       "7     0022001073\n",
       "8     0022001074\n",
       "9     0022001075\n",
       "10    0022001076\n",
       "11    0022001077\n",
       "12    0022001078\n",
       "13    0022001079\n",
       "14    0022001080\n",
       "15    0022001066\n",
       "16    0022001067\n",
       "17    0022001068\n",
       "18    0022001069\n",
       "19    0022001070\n",
       "20    0022001071\n",
       "21    0022001072\n",
       "22    0022001073\n",
       "23    0022001074\n",
       "24    0022001075\n",
       "25    0022001076\n",
       "26    0022001077\n",
       "27    0022001078\n",
       "28    0022001079\n",
       "29    0022001080\n",
       "Name: GAME_ID, dtype: object"
      ]
     },
     "execution_count": 34,
     "metadata": {},
     "output_type": "execute_result"
    }
   ],
   "source": [
    "gids"
   ]
  },
  {
   "cell_type": "code",
   "execution_count": 37,
   "id": "relevant-mother",
   "metadata": {},
   "outputs": [
    {
     "data": {
      "text/html": [
       "<div>\n",
       "<style scoped>\n",
       "    .dataframe tbody tr th:only-of-type {\n",
       "        vertical-align: middle;\n",
       "    }\n",
       "\n",
       "    .dataframe tbody tr th {\n",
       "        vertical-align: top;\n",
       "    }\n",
       "\n",
       "    .dataframe thead th {\n",
       "        text-align: right;\n",
       "    }\n",
       "</style>\n",
       "<table border=\"1\" class=\"dataframe\">\n",
       "  <thead>\n",
       "    <tr style=\"text-align: right;\">\n",
       "      <th></th>\n",
       "      <th>GAME_ID</th>\n",
       "      <th>TEAM_ID</th>\n",
       "      <th>TEAM_ABBREVIATION</th>\n",
       "      <th>TEAM_CITY</th>\n",
       "      <th>PLAYER_ID</th>\n",
       "      <th>PLAYER_NAME</th>\n",
       "      <th>START_POSITION</th>\n",
       "      <th>COMMENT</th>\n",
       "      <th>MIN</th>\n",
       "      <th>FGM</th>\n",
       "      <th>...</th>\n",
       "      <th>OREB</th>\n",
       "      <th>DREB</th>\n",
       "      <th>REB</th>\n",
       "      <th>AST</th>\n",
       "      <th>STL</th>\n",
       "      <th>BLK</th>\n",
       "      <th>TO</th>\n",
       "      <th>PF</th>\n",
       "      <th>PTS</th>\n",
       "      <th>PLUS_MINUS</th>\n",
       "    </tr>\n",
       "  </thead>\n",
       "  <tbody>\n",
       "  </tbody>\n",
       "</table>\n",
       "<p>0 rows × 28 columns</p>\n",
       "</div>"
      ],
      "text/plain": [
       "Empty DataFrame\n",
       "Columns: [GAME_ID, TEAM_ID, TEAM_ABBREVIATION, TEAM_CITY, PLAYER_ID, PLAYER_NAME, START_POSITION, COMMENT, MIN, FGM, FGA, FG_PCT, FG3M, FG3A, FG3_PCT, FTM, FTA, FT_PCT, OREB, DREB, REB, AST, STL, BLK, TO, PF, PTS, PLUS_MINUS]\n",
       "Index: []\n",
       "\n",
       "[0 rows x 28 columns]"
      ]
     },
     "execution_count": 37,
     "metadata": {},
     "output_type": "execute_result"
    }
   ],
   "source": [
    "bs = boxscoretraditionalv2.BoxScoreTraditionalV2(game_id = '0022001066')\n",
    "bs = bs.player_stats.get_data_frame()\n",
    "bs"
   ]
  },
  {
   "cell_type": "code",
   "execution_count": null,
   "id": "aware-amsterdam",
   "metadata": {},
   "outputs": [],
   "source": []
  }
 ],
 "metadata": {
  "kernelspec": {
   "display_name": "Python (nbadata)",
   "language": "python",
   "name": "nbadata"
  },
  "language_info": {
   "codemirror_mode": {
    "name": "ipython",
    "version": 3
   },
   "file_extension": ".py",
   "mimetype": "text/x-python",
   "name": "python",
   "nbconvert_exporter": "python",
   "pygments_lexer": "ipython3",
   "version": "3.9.1"
  }
 },
 "nbformat": 4,
 "nbformat_minor": 5
}
