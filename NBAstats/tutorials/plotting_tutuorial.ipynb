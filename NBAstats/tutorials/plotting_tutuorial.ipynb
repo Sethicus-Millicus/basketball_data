{
 "cells": [
  {
   "cell_type": "code",
   "execution_count": 10,
   "id": "smart-share",
   "metadata": {},
   "outputs": [],
   "source": [
    "import pandas as pd\n",
    "\n",
    "# I might not need this as I am already in the directory I want to be in\n",
    "import os\n",
    "import numpy as np\n",
    "\n",
    "import matplotlib.pyplot as plt\n",
    "%matplotlib inline"
   ]
  },
  {
   "cell_type": "code",
   "execution_count": 11,
   "id": "magnetic-brazil",
   "metadata": {},
   "outputs": [
    {
     "data": {
      "text/html": [
       "<div>\n",
       "<style scoped>\n",
       "    .dataframe tbody tr th:only-of-type {\n",
       "        vertical-align: middle;\n",
       "    }\n",
       "\n",
       "    .dataframe tbody tr th {\n",
       "        vertical-align: top;\n",
       "    }\n",
       "\n",
       "    .dataframe thead th {\n",
       "        text-align: right;\n",
       "    }\n",
       "</style>\n",
       "<table border=\"1\" class=\"dataframe\">\n",
       "  <thead>\n",
       "    <tr style=\"text-align: right;\">\n",
       "      <th></th>\n",
       "      <th>Unnamed: 0</th>\n",
       "      <th>Unnamed: 0.1</th>\n",
       "      <th>G</th>\n",
       "      <th>Date</th>\n",
       "      <th>Age</th>\n",
       "      <th>Tm</th>\n",
       "      <th>Opp</th>\n",
       "      <th>outcome</th>\n",
       "      <th>GS</th>\n",
       "      <th>MP</th>\n",
       "      <th>...</th>\n",
       "      <th>PF</th>\n",
       "      <th>PTS</th>\n",
       "      <th>GmSc</th>\n",
       "      <th>+/-</th>\n",
       "      <th>FPTS</th>\n",
       "      <th>g</th>\n",
       "      <th>HOME_GAME</th>\n",
       "      <th>back_to_back</th>\n",
       "      <th>win</th>\n",
       "      <th>fpts_per_36</th>\n",
       "    </tr>\n",
       "  </thead>\n",
       "  <tbody>\n",
       "    <tr>\n",
       "      <th>0</th>\n",
       "      <td>0</td>\n",
       "      <td>0</td>\n",
       "      <td>1.0</td>\n",
       "      <td>2020-12-23</td>\n",
       "      <td>26-282</td>\n",
       "      <td>PHI</td>\n",
       "      <td>WAS</td>\n",
       "      <td>W (+6)</td>\n",
       "      <td>1</td>\n",
       "      <td>34.8</td>\n",
       "      <td>...</td>\n",
       "      <td>3.0</td>\n",
       "      <td>29.0</td>\n",
       "      <td>23.6</td>\n",
       "      <td>-2.0</td>\n",
       "      <td>48.8</td>\n",
       "      <td>1</td>\n",
       "      <td>1</td>\n",
       "      <td>0</td>\n",
       "      <td>1</td>\n",
       "      <td>50.5</td>\n",
       "    </tr>\n",
       "    <tr>\n",
       "      <th>1</th>\n",
       "      <td>1</td>\n",
       "      <td>1</td>\n",
       "      <td>2.0</td>\n",
       "      <td>2020-12-26</td>\n",
       "      <td>26-285</td>\n",
       "      <td>PHI</td>\n",
       "      <td>NYK</td>\n",
       "      <td>W (+20)</td>\n",
       "      <td>1</td>\n",
       "      <td>30.6</td>\n",
       "      <td>...</td>\n",
       "      <td>3.0</td>\n",
       "      <td>27.0</td>\n",
       "      <td>21.7</td>\n",
       "      <td>18.0</td>\n",
       "      <td>47.0</td>\n",
       "      <td>1</td>\n",
       "      <td>0</td>\n",
       "      <td>0</td>\n",
       "      <td>1</td>\n",
       "      <td>55.3</td>\n",
       "    </tr>\n",
       "    <tr>\n",
       "      <th>2</th>\n",
       "      <td>2</td>\n",
       "      <td>2</td>\n",
       "      <td>NaN</td>\n",
       "      <td>2020-12-27</td>\n",
       "      <td>26-286</td>\n",
       "      <td>PHI</td>\n",
       "      <td>CLE</td>\n",
       "      <td>L (-24)</td>\n",
       "      <td>Did Not Dress</td>\n",
       "      <td>0.0</td>\n",
       "      <td>...</td>\n",
       "      <td>NaN</td>\n",
       "      <td>NaN</td>\n",
       "      <td>NaN</td>\n",
       "      <td>NaN</td>\n",
       "      <td>NaN</td>\n",
       "      <td>0</td>\n",
       "      <td>0</td>\n",
       "      <td>1</td>\n",
       "      <td>0</td>\n",
       "      <td>0.0</td>\n",
       "    </tr>\n",
       "    <tr>\n",
       "      <th>3</th>\n",
       "      <td>3</td>\n",
       "      <td>3</td>\n",
       "      <td>3.0</td>\n",
       "      <td>2020-12-29</td>\n",
       "      <td>26-288</td>\n",
       "      <td>PHI</td>\n",
       "      <td>TOR</td>\n",
       "      <td>W (+7)</td>\n",
       "      <td>1</td>\n",
       "      <td>37.9</td>\n",
       "      <td>...</td>\n",
       "      <td>1.0</td>\n",
       "      <td>29.0</td>\n",
       "      <td>26.3</td>\n",
       "      <td>15.0</td>\n",
       "      <td>61.2</td>\n",
       "      <td>1</td>\n",
       "      <td>1</td>\n",
       "      <td>0</td>\n",
       "      <td>1</td>\n",
       "      <td>58.1</td>\n",
       "    </tr>\n",
       "    <tr>\n",
       "      <th>4</th>\n",
       "      <td>4</td>\n",
       "      <td>4</td>\n",
       "      <td>4.0</td>\n",
       "      <td>2020-12-31</td>\n",
       "      <td>26-290</td>\n",
       "      <td>PHI</td>\n",
       "      <td>ORL</td>\n",
       "      <td>W (+24)</td>\n",
       "      <td>1</td>\n",
       "      <td>26.7</td>\n",
       "      <td>...</td>\n",
       "      <td>2.0</td>\n",
       "      <td>21.0</td>\n",
       "      <td>20.0</td>\n",
       "      <td>23.0</td>\n",
       "      <td>40.8</td>\n",
       "      <td>1</td>\n",
       "      <td>0</td>\n",
       "      <td>0</td>\n",
       "      <td>1</td>\n",
       "      <td>55.0</td>\n",
       "    </tr>\n",
       "  </tbody>\n",
       "</table>\n",
       "<p>5 rows × 36 columns</p>\n",
       "</div>"
      ],
      "text/plain": [
       "   Unnamed: 0  Unnamed: 0.1    G        Date     Age   Tm  Opp  outcome  \\\n",
       "0           0             0  1.0  2020-12-23  26-282  PHI  WAS   W (+6)   \n",
       "1           1             1  2.0  2020-12-26  26-285  PHI  NYK  W (+20)   \n",
       "2           2             2  NaN  2020-12-27  26-286  PHI  CLE  L (-24)   \n",
       "3           3             3  3.0  2020-12-29  26-288  PHI  TOR   W (+7)   \n",
       "4           4             4  4.0  2020-12-31  26-290  PHI  ORL  W (+24)   \n",
       "\n",
       "              GS    MP  ...   PF   PTS  GmSc   +/-  FPTS  g  HOME_GAME  \\\n",
       "0              1  34.8  ...  3.0  29.0  23.6  -2.0  48.8  1          1   \n",
       "1              1  30.6  ...  3.0  27.0  21.7  18.0  47.0  1          0   \n",
       "2  Did Not Dress   0.0  ...  NaN   NaN   NaN   NaN   NaN  0          0   \n",
       "3              1  37.9  ...  1.0  29.0  26.3  15.0  61.2  1          1   \n",
       "4              1  26.7  ...  2.0  21.0  20.0  23.0  40.8  1          0   \n",
       "\n",
       "   back_to_back  win  fpts_per_36  \n",
       "0             0    1         50.5  \n",
       "1             0    1         55.3  \n",
       "2             1    0          0.0  \n",
       "3             0    1         58.1  \n",
       "4             0    1         55.0  \n",
       "\n",
       "[5 rows x 36 columns]"
      ]
     },
     "execution_count": 11,
     "metadata": {},
     "output_type": "execute_result"
    }
   ],
   "source": [
    "# naming df as df instead of df_embiid this time. It will cause less confusion when I use a player that is not Joel Embiid\n",
    "\n",
    "df = pd.read_csv('joelembiid_gamelog.csv')\n",
    "df.head()"
   ]
  },
  {
   "cell_type": "code",
   "execution_count": 12,
   "id": "induced-sierra",
   "metadata": {},
   "outputs": [
    {
     "data": {
      "text/plain": [
       "win\n",
       "0    17.6\n",
       "1    57.7\n",
       "Name: fpts_per_36, dtype: float64"
      ]
     },
     "execution_count": 12,
     "metadata": {},
     "output_type": "execute_result"
    }
   ],
   "source": [
    "# how does fpts_per_36 impact philly's win/loss\n",
    "\n",
    "# groupy by win and round to 1 decimal\n",
    "\n",
    "df.groupby(['win'])['fpts_per_36'].mean().round(1)\n",
    "\n",
    "# problem is that points for game not played is taking into account here. and this is a small dataset"
   ]
  },
  {
   "cell_type": "code",
   "execution_count": 13,
   "id": "organizational-thumbnail",
   "metadata": {},
   "outputs": [
    {
     "data": {
      "text/plain": [
       "g  win\n",
       "0  0       0.0\n",
       "1  0      52.8\n",
       "   1      57.7\n",
       "Name: fpts_per_36, dtype: float64"
      ]
     },
     "execution_count": 13,
     "metadata": {},
     "output_type": "execute_result"
    }
   ],
   "source": [
    "# adding the groupby in for games actually played will make a big difference\n",
    "# there has to be a better way of doing this \n",
    "\n",
    "df.groupby(['g','win'])['fpts_per_36'].mean().round(1)"
   ]
  },
  {
   "cell_type": "code",
   "execution_count": 14,
   "id": "respective-carter",
   "metadata": {},
   "outputs": [
    {
     "data": {
      "text/plain": [
       "g  HOME_GAME  win\n",
       "0  0          0       0.0\n",
       "   1          0       0.0\n",
       "1  0          0      52.8\n",
       "              1      61.8\n",
       "   1          1      56.0\n",
       "Name: fpts_per_36, dtype: float64"
      ]
     },
     "execution_count": 14,
     "metadata": {},
     "output_type": "execute_result"
    }
   ],
   "source": [
    "# do home games matter in the current season for Joel Embiid's Fantasy production\n",
    "df.groupby(['g','HOME_GAME', 'win'])['fpts_per_36'].mean().round(1)"
   ]
  },
  {
   "cell_type": "code",
   "execution_count": 15,
   "id": "sudden-singer",
   "metadata": {},
   "outputs": [
    {
     "name": "stderr",
     "output_type": "stream",
     "text": [
      "<ipython-input-15-2d8b5f3d07df>:5: UserWarning: Boolean Series key will be reindexed to match DataFrame index.\n",
      "  home_p = df_played[df.win==1].groupby(['HOME_GAME'])['FPTS'].mean()\n",
      "<ipython-input-15-2d8b5f3d07df>:6: UserWarning: Boolean Series key will be reindexed to match DataFrame index.\n",
      "  away_p = df_played[df.win==0].groupby(['HOME_GAME'])['FPTS'].mean()\n"
     ]
    },
    {
     "data": {
      "text/html": [
       "<div>\n",
       "<style scoped>\n",
       "    .dataframe tbody tr th:only-of-type {\n",
       "        vertical-align: middle;\n",
       "    }\n",
       "\n",
       "    .dataframe tbody tr th {\n",
       "        vertical-align: top;\n",
       "    }\n",
       "\n",
       "    .dataframe thead th {\n",
       "        text-align: right;\n",
       "    }\n",
       "</style>\n",
       "<table border=\"1\" class=\"dataframe\">\n",
       "  <thead>\n",
       "    <tr style=\"text-align: right;\">\n",
       "      <th></th>\n",
       "      <th>home</th>\n",
       "      <th>away</th>\n",
       "    </tr>\n",
       "    <tr>\n",
       "      <th>HOME_GAME</th>\n",
       "      <th></th>\n",
       "      <th></th>\n",
       "    </tr>\n",
       "  </thead>\n",
       "  <tbody>\n",
       "    <tr>\n",
       "      <th>0</th>\n",
       "      <td>50.70</td>\n",
       "      <td>37.8</td>\n",
       "    </tr>\n",
       "    <tr>\n",
       "      <th>1</th>\n",
       "      <td>52.67</td>\n",
       "      <td>NaN</td>\n",
       "    </tr>\n",
       "  </tbody>\n",
       "</table>\n",
       "</div>"
      ],
      "text/plain": [
       "            home  away\n",
       "HOME_GAME             \n",
       "0          50.70  37.8\n",
       "1          52.67   NaN"
      ]
     },
     "execution_count": 15,
     "metadata": {},
     "output_type": "execute_result"
    }
   ],
   "source": [
    "# create dateframe not including games missed by Embiid\n",
    "df_played = df[df.g==1]\n",
    "\n",
    "\n",
    "home_p = df_played[df.win==1].groupby(['HOME_GAME'])['FPTS'].mean()\n",
    "away_p = df_played[df.win==0].groupby(['HOME_GAME'])['FPTS'].mean()\n",
    "\n",
    "pd.DataFrame({'home':home_p, 'away':away_p})"
   ]
  },
  {
   "cell_type": "code",
   "execution_count": 16,
   "id": "royal-performance",
   "metadata": {},
   "outputs": [
    {
     "data": {
      "text/html": [
       "<div>\n",
       "<style scoped>\n",
       "    .dataframe tbody tr th:only-of-type {\n",
       "        vertical-align: middle;\n",
       "    }\n",
       "\n",
       "    .dataframe tbody tr th {\n",
       "        vertical-align: top;\n",
       "    }\n",
       "\n",
       "    .dataframe thead th {\n",
       "        text-align: right;\n",
       "    }\n",
       "</style>\n",
       "<table border=\"1\" class=\"dataframe\">\n",
       "  <thead>\n",
       "    <tr style=\"text-align: right;\">\n",
       "      <th>win</th>\n",
       "      <th>0</th>\n",
       "      <th>1</th>\n",
       "    </tr>\n",
       "    <tr>\n",
       "      <th>HOME_GAME</th>\n",
       "      <th></th>\n",
       "      <th></th>\n",
       "    </tr>\n",
       "  </thead>\n",
       "  <tbody>\n",
       "    <tr>\n",
       "      <th>0</th>\n",
       "      <td>37.8</td>\n",
       "      <td>50.70</td>\n",
       "    </tr>\n",
       "    <tr>\n",
       "      <th>1</th>\n",
       "      <td>NaN</td>\n",
       "      <td>52.67</td>\n",
       "    </tr>\n",
       "  </tbody>\n",
       "</table>\n",
       "</div>"
      ],
      "text/plain": [
       "win           0      1\n",
       "HOME_GAME             \n",
       "0          37.8  50.70\n",
       "1           NaN  52.67"
      ]
     },
     "execution_count": 16,
     "metadata": {},
     "output_type": "execute_result"
    }
   ],
   "source": [
    "df_played.pivot_table(index= 'HOME_GAME', columns= 'win', values= 'FPTS', aggfunc=np.mean)"
   ]
  },
  {
   "cell_type": "code",
   "execution_count": 17,
   "id": "earned-stuart",
   "metadata": {},
   "outputs": [
    {
     "data": {
      "text/plain": [
       "<AxesSubplot:xlabel='HOME_GAME'>"
      ]
     },
     "execution_count": 17,
     "metadata": {},
     "output_type": "execute_result"
    },
    {
     "data": {
      "image/png": "[encoded data removed]",
      "text/plain": [
       "<Figure size 432x288 with 1 Axes>"
      ]
     },
     "metadata": {
      "needs_background": "light"
     },
     "output_type": "display_data"
    }
   ],
   "source": [
    "df_played.pivot_table(index= 'HOME_GAME', columns= 'win', values= 'FPTS', aggfunc=np.mean).plot(kind='bar')"
   ]
  },
  {
   "cell_type": "code",
   "execution_count": 18,
   "id": "fifteen-league",
   "metadata": {},
   "outputs": [
    {
     "data": {
      "image/png": "[encoded data removed]",
      "text/plain": [
       "<Figure size 432x288 with 1 Axes>"
      ]
     },
     "metadata": {
      "needs_background": "light"
     },
     "output_type": "display_data"
    }
   ],
   "source": [
    "x = df_played['G']\n",
    "y = df_played['FPTS']\n",
    "plt.plot(x,y)\n",
    "plt.show()"
   ]
  },
  {
   "cell_type": "code",
   "execution_count": 19,
   "id": "advisory-anxiety",
   "metadata": {},
   "outputs": [
    {
     "data": {
      "image/png": "[encoded data removed]",
      "text/plain": [
       "<Figure size 432x288 with 1 Axes>"
      ]
     },
     "metadata": {
      "needs_background": "light"
     },
     "output_type": "display_data"
    }
   ],
   "source": [
    "x = df_played['G']\n",
    "y = df_played['FPTS']\n",
    "\n",
    "plt.plot(x,y)\n",
    "plt.xlabel(\"Games Played\")\n",
    "plt.ylabel('Points Scored')\n",
    "plt.title('Joel Embiid 2021 FPTS per Game')\n",
    "plt.show()"
   ]
  },
  {
   "cell_type": "code",
   "execution_count": 20,
   "id": "european-permission",
   "metadata": {},
   "outputs": [
    {
     "data": {
      "image/png": "[encoded data removed]",
      "text/plain": [
       "<Figure size 432x288 with 1 Axes>"
      ]
     },
     "metadata": {
      "needs_background": "light"
     },
     "output_type": "display_data"
    }
   ],
   "source": [
    "x = df_played['G']\n",
    "y = df_played['FPTS']\n",
    "mp = df_played['MP']\n",
    "\n",
    "plt.plot(x, y, color = 'k', linewidth = 3, label ='pts')\n",
    "plt.bar(x, mp, color = 'b', label = 'mp')\n",
    "\n",
    "\n",
    "plt.xlabel(\"Games Played\")\n",
    "plt.ylabel('Points Scored')\n",
    "plt.title('Joel Embiid 2021 FPTS per Game')\n",
    "plt.legend()\n",
    "plt.show()"
   ]
  },
  {
   "cell_type": "code",
   "execution_count": 21,
   "id": "ordinary-contract",
   "metadata": {},
   "outputs": [
    {
     "data": {
      "text/plain": [
       "Text(0.5, 1.0, 'Histogram of Joel Embiid FPTS per game')"
      ]
     },
     "execution_count": 21,
     "metadata": {},
     "output_type": "execute_result"
    },
    {
     "data": {
      "image/png": "[encoded data removed]",
      "text/plain": [
       "<Figure size 432x288 with 1 Axes>"
      ]
     },
     "metadata": {
      "needs_background": "light"
     },
     "output_type": "display_data"
    }
   ],
   "source": [
    "plt.hist(y)\n",
    "plt.xlabel('Fantasy Point')\n",
    "plt.ylabel('Frequency')\n",
    "plt.title('Histogram of Joel Embiid FPTS per game')"
   ]
  },
  {
   "cell_type": "code",
   "execution_count": 23,
   "id": "literary-tuner",
   "metadata": {},
   "outputs": [
    {
     "data": {
      "text/plain": [
       "Text(0.5, 1.0, 'Histogram of Joel Embiid FPTS per game')"
      ]
     },
     "execution_count": 23,
     "metadata": {},
     "output_type": "execute_result"
    },
    {
     "data": {
      "image/png": "[encoded data removed]",
      "text/plain": [
       "<Figure size 432x288 with 1 Axes>"
      ]
     },
     "metadata": {
      "needs_background": "light"
     },
     "output_type": "display_data"
    }
   ],
   "source": [
    "\n",
    "plt.hist(y, rwidth=.95, color = 'r')\n",
    "plt.xlabel('Fantasy Point')\n",
    "plt.ylabel('Frequency')\n",
    "plt.title('Histogram of Joel Embiid FPTS per game')"
   ]
  },
  {
   "cell_type": "code",
   "execution_count": null,
   "id": "descending-talent",
   "metadata": {},
   "outputs": [],
   "source": []
  }
 ],
 "metadata": {
  "kernelspec": {
   "display_name": "Python (nbadata)",
   "language": "python",
   "name": "nbadata"
  },
  "language_info": {
   "codemirror_mode": {
    "name": "ipython",
    "version": 3
   },
   "file_extension": ".py",
   "mimetype": "text/x-python",
   "name": "python",
   "nbconvert_exporter": "python",
   "pygments_lexer": "ipython3",
   "version": "3.9.1"
  }
 },
 "nbformat": 4,
 "nbformat_minor": 5
}
