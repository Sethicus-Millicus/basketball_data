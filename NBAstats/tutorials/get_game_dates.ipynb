{
 "cells": [
  {
   "cell_type": "code",
   "execution_count": 1,
   "id": "powered-greensboro",
   "metadata": {},
   "outputs": [],
   "source": [
    "import pandas as pd\n",
    "import datetime as dt\n"
   ]
  },
  {
   "cell_type": "code",
   "execution_count": 4,
   "id": "touched-doctor",
   "metadata": {},
   "outputs": [],
   "source": [
    "'''create a for loop to loop through the dates of 2020-21 NBA season as found on google. I put dates into csv file and thi'''\n",
    "\n",
    "df_season = pd.read_csv('season.csv')\n",
    "game_dates = []\n",
    "for i, row in df_season.iterrows():\n",
    "    start_date = dt.datetime.strptime(row['start'], '%Y-%m-%d').date()\n",
    "    end_date = dt.datetime.strptime(row['end'], '%Y-%m-%d').date()\n",
    "    while start_date <= end_date:\n",
    "        game_dates.append(start_date)\n",
    "        start_date = start_date + dt.timedelta(1)\n",
    "        "
   ]
  },
  {
   "cell_type": "code",
   "execution_count": 6,
   "id": "rising-senegal",
   "metadata": {},
   "outputs": [],
   "source": [
    "df = pd.DataFrame(game_dates, columns = {\"dates\"})\n",
    "df['pulled'] = ''"
   ]
  },
  {
   "cell_type": "code",
   "execution_count": 9,
   "id": "polish-survival",
   "metadata": {},
   "outputs": [],
   "source": [
    "df.to_csv('game_dates_pulled.csv')"
   ]
  },
  {
   "cell_type": "code",
   "execution_count": null,
   "id": "further-virginia",
   "metadata": {},
   "outputs": [],
   "source": []
  }
 ],
 "metadata": {
  "kernelspec": {
   "display_name": "Python (nbadata)",
   "language": "python",
   "name": "nbadata"
  },
  "language_info": {
   "codemirror_mode": {
    "name": "ipython",
    "version": 3
   },
   "file_extension": ".py",
   "mimetype": "text/x-python",
   "name": "python",
   "nbconvert_exporter": "python",
   "pygments_lexer": "ipython3",
   "version": "3.9.1"
  }
 },
 "nbformat": 4,
 "nbformat_minor": 5
}
