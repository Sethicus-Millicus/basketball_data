{
 "cells": [
  {
   "cell_type": "markdown",
   "metadata": {
    "colab_type": "text",
    "id": "view-in-github"
   },
   "source": [
    "<a href=\"https://colab.research.google.com/github/Sethicus-Millicus/basketball_data/blob/web-scraping-edits/pull_college_gamelogs.ipynb\" target=\"_parent\"><img src=\"https://colab.research.google.com/assets/colab-badge.svg\" alt=\"Open In Colab\"/></a>"
   ]
  },
  {
   "cell_type": "code",
   "execution_count": null,
   "metadata": {
    "id": "HB8VodzGrq5X"
   },
   "outputs": [],
   "source": []
  },
  {
   "cell_type": "markdown",
   "metadata": {
    "id": "oigR3c9sDOhq"
   },
   "source": [
    "# Web scraping Tutorial\n",
    "\n",
    "* This notebook is a quick reference on how to use beautifulsoup4 to download data from websites- specifically basketball-reference.com"
   ]
  },
  {
   "cell_type": "code",
   "execution_count": 1,
   "metadata": {
    "id": "itz2Nur-DOhx"
   },
   "outputs": [],
   "source": [
    "import requests\n",
    "from bs4 import BeautifulSoup\n",
    "import pandas as pd\n",
    "import numpy as np\n",
    "\n",
    "from urllib.request import urlopen\n",
    "import os"
   ]
  },
  {
   "cell_type": "code",
   "execution_count": 2,
   "metadata": {
    "colab": {
     "base_uri": "https://localhost:8080/"
    },
    "id": "B_Srm7MxDOh1",
    "outputId": "dafdba9b-dd1c-454c-c7b1-6f368a33a0ea"
   },
   "outputs": [],
   "source": [
    "url = 'https://www.sports-reference.com/cbb/players/matthew-hurt-1/gamelog/2021'\n",
    "page = requests.get(url)\n",
    "html = urlopen(url)\n",
    "soup = BeautifulSoup(html)\n",
    "\n",
    "# using findAll toget the column headers\n",
    "soup.findAll('thead')\n",
    "headers = [th.getText() for th in soup.findAll('thead')[0].findAll('th')]\n",
    "\n",
    "#remove extra header\n",
    "headers.remove('Rk')\n",
    "\n",
    "\n",
    "table_body = soup.tbody\n",
    "#table_body is used to grab all tr in tbody\n",
    "\n",
    "rows = table_body.findAll('tr')\n",
    "#rows\n",
    "\n",
    "player_stats = [[td.getText() for td in rows[i].findAll('td')] for i in range(len(rows))]\n",
    "#player_stats\n",
    "\n",
    "gamelog = pd.DataFrame(player_stats, columns = headers)\n",
    "#gamelog is the DF putting it all together\n",
    "\n"
   ]
  },
  {
   "cell_type": "code",
   "execution_count": 3,
   "metadata": {
    "colab": {
     "base_uri": "https://localhost:8080/"
    },
    "id": "8MM1fECUDOh2",
    "outputId": "216d105a-140a-420a-9770-97090455e471"
   },
   "outputs": [],
   "source": [
    "gamelog = gamelog.apply(pd.to_numeric, errors='ignore')\n",
    "gamelog['Date'] = pd.to_datetime(gamelog['Date'])\n",
    "\n",
    "gamelog[\"FPTS\"] = (gamelog.PTS) + (gamelog.TRB*1.2) + (gamelog.AST*1.5) + (gamelog.STL*3) + (gamelog.BLK*3) + (gamelog.TOV*-1)\n",
    "\n",
    "gamelog.columns.values[2] = \"game_loc\"\n",
    "gamelog.columns.values[5] = \"W_L\"\n",
    "\n",
    "# replace blank spaces with nan\n",
    "gamelog = gamelog.replace(r'^\\s*$', np.nan, regex=True)\n",
    "\n",
    "gamelog['Home'] = [1 if pd.isna(gamelog.game_loc[gm])==True else 0 for gm in range(len(gamelog))]\n",
    "gamelog.drop(['game_loc'], inplace=True, axis=1)\n",
    "\n",
    "gamelog['W'] = [1 if gamelog['W_L'][gm] == 'W' else 0 for gm in range(len(gamelog))]\n"
   ]
  },
  {
   "cell_type": "code",
   "execution_count": 4,
   "metadata": {},
   "outputs": [],
   "source": [
    "# function to get normalized stats\n",
    "def stat_per_time(stat, minutes, per=36):\n",
    "  if minutes == 0:\n",
    "    return 0\n",
    "  else:\n",
    "    val_min = stat/minutes\n",
    "    return round(val_min * per, 1)\n",
    "\n",
    "# I want to see the normalized stat for fantasy points. but this can be used for any column. \n",
    "\n",
    "gamelog['fpts_per_36'] = gamelog.apply(lambda row: stat_per_time(stat = row['FPTS'], minutes = row['MP']), axis=1)"
   ]
  },
  {
   "cell_type": "code",
   "execution_count": 5,
   "metadata": {},
   "outputs": [
    {
     "data": {
      "text/html": [
       "<div>\n",
       "<style scoped>\n",
       "    .dataframe tbody tr th:only-of-type {\n",
       "        vertical-align: middle;\n",
       "    }\n",
       "\n",
       "    .dataframe tbody tr th {\n",
       "        vertical-align: top;\n",
       "    }\n",
       "\n",
       "    .dataframe thead th {\n",
       "        text-align: right;\n",
       "    }\n",
       "</style>\n",
       "<table border=\"1\" class=\"dataframe\">\n",
       "  <thead>\n",
       "    <tr style=\"text-align: right;\">\n",
       "      <th></th>\n",
       "      <th>Date</th>\n",
       "      <th>School</th>\n",
       "      <th>Opponent</th>\n",
       "      <th>Type</th>\n",
       "      <th>W_L</th>\n",
       "      <th>GS</th>\n",
       "      <th>MP</th>\n",
       "      <th>FG</th>\n",
       "      <th>FGA</th>\n",
       "      <th>FG%</th>\n",
       "      <th>...</th>\n",
       "      <th>AST</th>\n",
       "      <th>STL</th>\n",
       "      <th>BLK</th>\n",
       "      <th>TOV</th>\n",
       "      <th>PF</th>\n",
       "      <th>PTS</th>\n",
       "      <th>FPTS</th>\n",
       "      <th>Home</th>\n",
       "      <th>W</th>\n",
       "      <th>fpts_per_36</th>\n",
       "    </tr>\n",
       "  </thead>\n",
       "  <tbody>\n",
       "    <tr>\n",
       "      <th>0</th>\n",
       "      <td>2020-11-28</td>\n",
       "      <td>Duke</td>\n",
       "      <td>Coppin State</td>\n",
       "      <td>REG</td>\n",
       "      <td>W</td>\n",
       "      <td>1</td>\n",
       "      <td>29</td>\n",
       "      <td>5</td>\n",
       "      <td>11</td>\n",
       "      <td>0.455</td>\n",
       "      <td>...</td>\n",
       "      <td>1</td>\n",
       "      <td>1</td>\n",
       "      <td>0</td>\n",
       "      <td>1</td>\n",
       "      <td>4</td>\n",
       "      <td>12</td>\n",
       "      <td>23.9</td>\n",
       "      <td>1</td>\n",
       "      <td>1</td>\n",
       "      <td>29.7</td>\n",
       "    </tr>\n",
       "    <tr>\n",
       "      <th>1</th>\n",
       "      <td>2020-12-01</td>\n",
       "      <td>Duke</td>\n",
       "      <td>Michigan State</td>\n",
       "      <td>REG</td>\n",
       "      <td>L</td>\n",
       "      <td>1</td>\n",
       "      <td>36</td>\n",
       "      <td>6</td>\n",
       "      <td>14</td>\n",
       "      <td>0.429</td>\n",
       "      <td>...</td>\n",
       "      <td>0</td>\n",
       "      <td>0</td>\n",
       "      <td>0</td>\n",
       "      <td>1</td>\n",
       "      <td>2</td>\n",
       "      <td>21</td>\n",
       "      <td>35.6</td>\n",
       "      <td>1</td>\n",
       "      <td>0</td>\n",
       "      <td>35.6</td>\n",
       "    </tr>\n",
       "    <tr>\n",
       "      <th>2</th>\n",
       "      <td>2020-12-04</td>\n",
       "      <td>Duke</td>\n",
       "      <td>Bellarmine</td>\n",
       "      <td>REG</td>\n",
       "      <td>W</td>\n",
       "      <td>1</td>\n",
       "      <td>32</td>\n",
       "      <td>9</td>\n",
       "      <td>12</td>\n",
       "      <td>0.750</td>\n",
       "      <td>...</td>\n",
       "      <td>2</td>\n",
       "      <td>1</td>\n",
       "      <td>1</td>\n",
       "      <td>1</td>\n",
       "      <td>3</td>\n",
       "      <td>24</td>\n",
       "      <td>39.2</td>\n",
       "      <td>1</td>\n",
       "      <td>1</td>\n",
       "      <td>44.1</td>\n",
       "    </tr>\n",
       "    <tr>\n",
       "      <th>3</th>\n",
       "      <td>2020-12-08</td>\n",
       "      <td>Duke</td>\n",
       "      <td>Illinois</td>\n",
       "      <td>REG</td>\n",
       "      <td>L</td>\n",
       "      <td>1</td>\n",
       "      <td>30</td>\n",
       "      <td>8</td>\n",
       "      <td>15</td>\n",
       "      <td>0.533</td>\n",
       "      <td>...</td>\n",
       "      <td>0</td>\n",
       "      <td>1</td>\n",
       "      <td>1</td>\n",
       "      <td>0</td>\n",
       "      <td>4</td>\n",
       "      <td>19</td>\n",
       "      <td>33.4</td>\n",
       "      <td>1</td>\n",
       "      <td>0</td>\n",
       "      <td>40.1</td>\n",
       "    </tr>\n",
       "    <tr>\n",
       "      <th>4</th>\n",
       "      <td>2020-12-16</td>\n",
       "      <td>Duke</td>\n",
       "      <td>Notre Dame</td>\n",
       "      <td>REG</td>\n",
       "      <td>W</td>\n",
       "      <td>1</td>\n",
       "      <td>38</td>\n",
       "      <td>8</td>\n",
       "      <td>17</td>\n",
       "      <td>0.471</td>\n",
       "      <td>...</td>\n",
       "      <td>3</td>\n",
       "      <td>1</td>\n",
       "      <td>2</td>\n",
       "      <td>1</td>\n",
       "      <td>2</td>\n",
       "      <td>18</td>\n",
       "      <td>36.5</td>\n",
       "      <td>0</td>\n",
       "      <td>1</td>\n",
       "      <td>34.6</td>\n",
       "    </tr>\n",
       "    <tr>\n",
       "      <th>5</th>\n",
       "      <td>2021-01-06</td>\n",
       "      <td>Duke</td>\n",
       "      <td>Boston College</td>\n",
       "      <td>REG</td>\n",
       "      <td>W</td>\n",
       "      <td>1</td>\n",
       "      <td>32</td>\n",
       "      <td>7</td>\n",
       "      <td>15</td>\n",
       "      <td>0.467</td>\n",
       "      <td>...</td>\n",
       "      <td>1</td>\n",
       "      <td>0</td>\n",
       "      <td>1</td>\n",
       "      <td>2</td>\n",
       "      <td>4</td>\n",
       "      <td>17</td>\n",
       "      <td>32.7</td>\n",
       "      <td>1</td>\n",
       "      <td>1</td>\n",
       "      <td>36.8</td>\n",
       "    </tr>\n",
       "    <tr>\n",
       "      <th>6</th>\n",
       "      <td>2021-01-09</td>\n",
       "      <td>Duke</td>\n",
       "      <td>Wake Forest</td>\n",
       "      <td>REG</td>\n",
       "      <td>W</td>\n",
       "      <td>1</td>\n",
       "      <td>31</td>\n",
       "      <td>10</td>\n",
       "      <td>15</td>\n",
       "      <td>0.667</td>\n",
       "      <td>...</td>\n",
       "      <td>2</td>\n",
       "      <td>3</td>\n",
       "      <td>0</td>\n",
       "      <td>3</td>\n",
       "      <td>4</td>\n",
       "      <td>26</td>\n",
       "      <td>42.2</td>\n",
       "      <td>1</td>\n",
       "      <td>1</td>\n",
       "      <td>49.0</td>\n",
       "    </tr>\n",
       "    <tr>\n",
       "      <th>7</th>\n",
       "      <td>2021-01-12</td>\n",
       "      <td>Duke</td>\n",
       "      <td>Virginia Tech</td>\n",
       "      <td>REG</td>\n",
       "      <td>L</td>\n",
       "      <td>1</td>\n",
       "      <td>38</td>\n",
       "      <td>8</td>\n",
       "      <td>16</td>\n",
       "      <td>0.500</td>\n",
       "      <td>...</td>\n",
       "      <td>0</td>\n",
       "      <td>1</td>\n",
       "      <td>2</td>\n",
       "      <td>2</td>\n",
       "      <td>3</td>\n",
       "      <td>20</td>\n",
       "      <td>40.2</td>\n",
       "      <td>0</td>\n",
       "      <td>0</td>\n",
       "      <td>38.1</td>\n",
       "    </tr>\n",
       "    <tr>\n",
       "      <th>8</th>\n",
       "      <td>2021-01-19</td>\n",
       "      <td>Duke</td>\n",
       "      <td>Pitt</td>\n",
       "      <td>REG</td>\n",
       "      <td>L</td>\n",
       "      <td>1</td>\n",
       "      <td>30</td>\n",
       "      <td>5</td>\n",
       "      <td>12</td>\n",
       "      <td>0.417</td>\n",
       "      <td>...</td>\n",
       "      <td>4</td>\n",
       "      <td>0</td>\n",
       "      <td>1</td>\n",
       "      <td>0</td>\n",
       "      <td>3</td>\n",
       "      <td>13</td>\n",
       "      <td>29.2</td>\n",
       "      <td>0</td>\n",
       "      <td>0</td>\n",
       "      <td>35.0</td>\n",
       "    </tr>\n",
       "    <tr>\n",
       "      <th>9</th>\n",
       "      <td>2021-01-23</td>\n",
       "      <td>Duke</td>\n",
       "      <td>Louisville</td>\n",
       "      <td>REG</td>\n",
       "      <td>L</td>\n",
       "      <td>1</td>\n",
       "      <td>35</td>\n",
       "      <td>9</td>\n",
       "      <td>13</td>\n",
       "      <td>0.692</td>\n",
       "      <td>...</td>\n",
       "      <td>0</td>\n",
       "      <td>0</td>\n",
       "      <td>0</td>\n",
       "      <td>3</td>\n",
       "      <td>5</td>\n",
       "      <td>24</td>\n",
       "      <td>30.6</td>\n",
       "      <td>0</td>\n",
       "      <td>0</td>\n",
       "      <td>31.5</td>\n",
       "    </tr>\n",
       "    <tr>\n",
       "      <th>10</th>\n",
       "      <td>2021-01-26</td>\n",
       "      <td>Duke</td>\n",
       "      <td>Georgia Tech</td>\n",
       "      <td>REG</td>\n",
       "      <td>W</td>\n",
       "      <td>1</td>\n",
       "      <td>38</td>\n",
       "      <td>6</td>\n",
       "      <td>11</td>\n",
       "      <td>0.545</td>\n",
       "      <td>...</td>\n",
       "      <td>1</td>\n",
       "      <td>0</td>\n",
       "      <td>0</td>\n",
       "      <td>2</td>\n",
       "      <td>0</td>\n",
       "      <td>17</td>\n",
       "      <td>26.1</td>\n",
       "      <td>1</td>\n",
       "      <td>1</td>\n",
       "      <td>24.7</td>\n",
       "    </tr>\n",
       "    <tr>\n",
       "      <th>11</th>\n",
       "      <td>2021-01-30</td>\n",
       "      <td>Duke</td>\n",
       "      <td>Clemson</td>\n",
       "      <td>REG</td>\n",
       "      <td>W</td>\n",
       "      <td>1</td>\n",
       "      <td>28</td>\n",
       "      <td>4</td>\n",
       "      <td>7</td>\n",
       "      <td>0.571</td>\n",
       "      <td>...</td>\n",
       "      <td>3</td>\n",
       "      <td>0</td>\n",
       "      <td>0</td>\n",
       "      <td>2</td>\n",
       "      <td>3</td>\n",
       "      <td>13</td>\n",
       "      <td>20.3</td>\n",
       "      <td>1</td>\n",
       "      <td>1</td>\n",
       "      <td>26.1</td>\n",
       "    </tr>\n",
       "    <tr>\n",
       "      <th>12</th>\n",
       "      <td>2021-02-01</td>\n",
       "      <td>Duke</td>\n",
       "      <td>Miami (FL)</td>\n",
       "      <td>REG</td>\n",
       "      <td>L</td>\n",
       "      <td>1</td>\n",
       "      <td>38</td>\n",
       "      <td>7</td>\n",
       "      <td>15</td>\n",
       "      <td>0.467</td>\n",
       "      <td>...</td>\n",
       "      <td>0</td>\n",
       "      <td>0</td>\n",
       "      <td>1</td>\n",
       "      <td>1</td>\n",
       "      <td>3</td>\n",
       "      <td>21</td>\n",
       "      <td>26.6</td>\n",
       "      <td>0</td>\n",
       "      <td>0</td>\n",
       "      <td>25.2</td>\n",
       "    </tr>\n",
       "  </tbody>\n",
       "</table>\n",
       "<p>13 rows × 32 columns</p>\n",
       "</div>"
      ],
      "text/plain": [
       "         Date School        Opponent Type W_L  GS  MP  FG  FGA    FG%  ...  \\\n",
       "0  2020-11-28   Duke    Coppin State  REG   W   1  29   5   11  0.455  ...   \n",
       "1  2020-12-01   Duke  Michigan State  REG   L   1  36   6   14  0.429  ...   \n",
       "2  2020-12-04   Duke      Bellarmine  REG   W   1  32   9   12  0.750  ...   \n",
       "3  2020-12-08   Duke        Illinois  REG   L   1  30   8   15  0.533  ...   \n",
       "4  2020-12-16   Duke      Notre Dame  REG   W   1  38   8   17  0.471  ...   \n",
       "5  2021-01-06   Duke  Boston College  REG   W   1  32   7   15  0.467  ...   \n",
       "6  2021-01-09   Duke     Wake Forest  REG   W   1  31  10   15  0.667  ...   \n",
       "7  2021-01-12   Duke   Virginia Tech  REG   L   1  38   8   16  0.500  ...   \n",
       "8  2021-01-19   Duke            Pitt  REG   L   1  30   5   12  0.417  ...   \n",
       "9  2021-01-23   Duke      Louisville  REG   L   1  35   9   13  0.692  ...   \n",
       "10 2021-01-26   Duke    Georgia Tech  REG   W   1  38   6   11  0.545  ...   \n",
       "11 2021-01-30   Duke         Clemson  REG   W   1  28   4    7  0.571  ...   \n",
       "12 2021-02-01   Duke      Miami (FL)  REG   L   1  38   7   15  0.467  ...   \n",
       "\n",
       "    AST  STL  BLK  TOV  PF  PTS  FPTS  Home  W  fpts_per_36  \n",
       "0     1    1    0    1   4   12  23.9     1  1         29.7  \n",
       "1     0    0    0    1   2   21  35.6     1  0         35.6  \n",
       "2     2    1    1    1   3   24  39.2     1  1         44.1  \n",
       "3     0    1    1    0   4   19  33.4     1  0         40.1  \n",
       "4     3    1    2    1   2   18  36.5     0  1         34.6  \n",
       "5     1    0    1    2   4   17  32.7     1  1         36.8  \n",
       "6     2    3    0    3   4   26  42.2     1  1         49.0  \n",
       "7     0    1    2    2   3   20  40.2     0  0         38.1  \n",
       "8     4    0    1    0   3   13  29.2     0  0         35.0  \n",
       "9     0    0    0    3   5   24  30.6     0  0         31.5  \n",
       "10    1    0    0    2   0   17  26.1     1  1         24.7  \n",
       "11    3    0    0    2   3   13  20.3     1  1         26.1  \n",
       "12    0    0    1    1   3   21  26.6     0  0         25.2  \n",
       "\n",
       "[13 rows x 32 columns]"
      ]
     },
     "execution_count": 5,
     "metadata": {},
     "output_type": "execute_result"
    }
   ],
   "source": [
    "gamelog"
   ]
  },
  {
   "cell_type": "code",
   "execution_count": 6,
   "metadata": {
    "id": "UNzqxnYiDOh2"
   },
   "outputs": [],
   "source": [
    "gamelog.to_csv(\"cbb_gamelogs/matthew_hurt_gamelog.csv\")"
   ]
  },
  {
   "cell_type": "code",
   "execution_count": 7,
   "metadata": {
    "colab": {
     "base_uri": "https://localhost:8080/"
    },
    "id": "C3C87gqSDOh3",
    "outputId": "4fae90a0-0ffd-40a8-cda0-3cc94ab8b51b",
    "scrolled": true
   },
   "outputs": [],
   "source": [
    "df = pd.read_csv(\"cbb_gamelogs/matthew_hurt_gamelog.csv\")\n"
   ]
  },
  {
   "cell_type": "code",
   "execution_count": null,
   "metadata": {
    "colab": {
     "base_uri": "https://localhost:8080/"
    },
    "id": "nzS__hbXDOh4",
    "outputId": "feaf0a09-cfe7-4fcd-e83c-8c6f4416015c"
   },
   "outputs": [],
   "source": []
  },
  {
   "cell_type": "code",
   "execution_count": null,
   "metadata": {
    "id": "qPQ9fOpIDOh4"
   },
   "outputs": [],
   "source": [
    "\n"
   ]
  },
  {
   "cell_type": "code",
   "execution_count": null,
   "metadata": {
    "id": "ssK02YVtDOh4"
   },
   "outputs": [],
   "source": [
    "\n"
   ]
  },
  {
   "cell_type": "code",
   "execution_count": null,
   "metadata": {
    "id": "FypFRkFDDOh5"
   },
   "outputs": [],
   "source": []
  },
  {
   "cell_type": "code",
   "execution_count": null,
   "metadata": {
    "id": "me6Cw_M_DOh5"
   },
   "outputs": [],
   "source": []
  },
  {
   "cell_type": "code",
   "execution_count": null,
   "metadata": {
    "id": "G9xV7z1MDOh5"
   },
   "outputs": [],
   "source": []
  },
  {
   "cell_type": "code",
   "execution_count": null,
   "metadata": {
    "colab": {
     "base_uri": "https://localhost:8080/",
     "height": 204
    },
    "id": "Nk_HTxPdmVrl",
    "outputId": "5015fb31-e077-492d-bba4-2aee60418ffb"
   },
   "outputs": [],
   "source": []
  },
  {
   "cell_type": "code",
   "execution_count": null,
   "metadata": {
    "colab": {
     "base_uri": "https://localhost:8080/"
    },
    "id": "IWFnvAqNmWyS",
    "outputId": "1ea6cb0f-0812-4576-a017-9d4862d77011"
   },
   "outputs": [],
   "source": []
  },
  {
   "cell_type": "code",
   "execution_count": null,
   "metadata": {
    "id": "1V8M_8U9rpOP"
   },
   "outputs": [],
   "source": []
  },
  {
   "cell_type": "code",
   "execution_count": null,
   "metadata": {
    "colab": {
     "base_uri": "https://localhost:8080/"
    },
    "id": "kNCzGzeLmgDz",
    "outputId": "959cf1af-3070-459d-8de3-1c99b0e13404"
   },
   "outputs": [],
   "source": []
  },
  {
   "cell_type": "code",
   "execution_count": null,
   "metadata": {
    "id": "ahdM-kkqmXZ7"
   },
   "outputs": [],
   "source": []
  },
  {
   "cell_type": "code",
   "execution_count": null,
   "metadata": {
    "colab": {
     "base_uri": "https://localhost:8080/"
    },
    "id": "c43I8tJPDOh6",
    "outputId": "c3df9f87-e873-4df8-d33e-9b2751de38a6"
   },
   "outputs": [],
   "source": []
  },
  {
   "cell_type": "code",
   "execution_count": null,
   "metadata": {
    "colab": {
     "base_uri": "https://localhost:8080/"
    },
    "id": "ZsuX4eoDDOh6",
    "outputId": "719b0fb4-9597-484c-a241-4b4d243ee97d"
   },
   "outputs": [],
   "source": []
  },
  {
   "cell_type": "code",
   "execution_count": null,
   "metadata": {
    "id": "37XDZ01xDOh6"
   },
   "outputs": [],
   "source": []
  },
  {
   "cell_type": "code",
   "execution_count": null,
   "metadata": {
    "colab": {
     "base_uri": "https://localhost:8080/",
     "height": 340
    },
    "id": "4WlZvN7oDOh6",
    "outputId": "32ddab4a-894e-4c95-dd2f-9a38cb17f1a4"
   },
   "outputs": [],
   "source": []
  },
  {
   "cell_type": "code",
   "execution_count": null,
   "metadata": {
    "id": "uW4PDvaUDOh7"
   },
   "outputs": [],
   "source": []
  },
  {
   "cell_type": "code",
   "execution_count": null,
   "metadata": {
    "id": "rCW4W4PkDOh7"
   },
   "outputs": [],
   "source": []
  },
  {
   "cell_type": "code",
   "execution_count": null,
   "metadata": {
    "colab": {
     "base_uri": "https://localhost:8080/",
     "height": 204
    },
    "id": "dl1vCnF2DOh7",
    "outputId": "73442db9-163c-4c57-8821-810b51998f12"
   },
   "outputs": [],
   "source": []
  },
  {
   "cell_type": "code",
   "execution_count": null,
   "metadata": {
    "id": "oVY9LKKQDOh7"
   },
   "outputs": [],
   "source": []
  },
  {
   "cell_type": "code",
   "execution_count": null,
   "metadata": {
    "colab": {
     "base_uri": "https://localhost:8080/",
     "height": 340
    },
    "id": "wHg-oCsjDOh8",
    "outputId": "1adebf34-e36c-48c2-ecfa-4ebdf7ddcbe2"
   },
   "outputs": [],
   "source": []
  },
  {
   "cell_type": "code",
   "execution_count": null,
   "metadata": {
    "colab": {
     "base_uri": "https://localhost:8080/",
     "height": 204
    },
    "id": "zpfc0lY_DOh8",
    "outputId": "36a91b47-5b70-4127-c24f-6cc7b027d34f"
   },
   "outputs": [],
   "source": []
  },
  {
   "cell_type": "code",
   "execution_count": null,
   "metadata": {
    "id": "tVkvQXeMLRIA"
   },
   "outputs": [],
   "source": []
  },
  {
   "cell_type": "code",
   "execution_count": null,
   "metadata": {
    "colab": {
     "base_uri": "https://localhost:8080/"
    },
    "id": "9mwKHcq3DOh8",
    "outputId": "bd3f9ba6-fe18-484f-e113-768638ed5d77"
   },
   "outputs": [],
   "source": []
  },
  {
   "cell_type": "code",
   "execution_count": null,
   "metadata": {
    "id": "Uhwl6kj1DOh8"
   },
   "outputs": [],
   "source": [
    "\n"
   ]
  },
  {
   "cell_type": "code",
   "execution_count": null,
   "metadata": {
    "id": "PBkAPiZMDOh9"
   },
   "outputs": [],
   "source": [
    "\n"
   ]
  },
  {
   "cell_type": "code",
   "execution_count": null,
   "metadata": {
    "colab": {
     "base_uri": "https://localhost:8080/",
     "height": 930
    },
    "id": "7qoKspCnz5Qe",
    "outputId": "09164213-2632-48f4-c185-d8f09f00e05d"
   },
   "outputs": [],
   "source": []
  },
  {
   "cell_type": "code",
   "execution_count": null,
   "metadata": {
    "id": "SO2wzJ8j0kUU"
   },
   "outputs": [],
   "source": []
  },
  {
   "cell_type": "code",
   "execution_count": null,
   "metadata": {
    "id": "GjesWXry2HnK"
   },
   "outputs": [],
   "source": []
  },
  {
   "cell_type": "code",
   "execution_count": null,
   "metadata": {},
   "outputs": [],
   "source": []
  },
  {
   "cell_type": "code",
   "execution_count": null,
   "metadata": {},
   "outputs": [],
   "source": []
  },
  {
   "cell_type": "code",
   "execution_count": null,
   "metadata": {},
   "outputs": [],
   "source": []
  }
 ],
 "metadata": {
  "colab": {
   "authorship_tag": "ABX9TyO0RooqaGbUwRRzaxs4U2KX",
   "include_colab_link": true,
   "name": "pull_college_gamelogs.ipynb",
   "provenance": []
  },
  "kernelspec": {
   "display_name": "Python 3",
   "language": "python",
   "name": "python3"
  },
  "language_info": {
   "codemirror_mode": {
    "name": "ipython",
    "version": 3
   },
   "file_extension": ".py",
   "mimetype": "text/x-python",
   "name": "python",
   "nbconvert_exporter": "python",
   "pygments_lexer": "ipython3",
   "version": "3.9.1"
  }
 },
 "nbformat": 4,
 "nbformat_minor": 1
}
